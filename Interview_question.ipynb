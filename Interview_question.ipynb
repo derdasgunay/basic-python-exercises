{
  "nbformat": 4,
  "nbformat_minor": 0,
  "metadata": {
    "colab": {
      "provenance": [],
      "authorship_tag": "ABX9TyNjHCl9dm/8y8EQGWq/Cyhj",
      "include_colab_link": true
    },
    "kernelspec": {
      "name": "python3",
      "display_name": "Python 3"
    },
    "language_info": {
      "name": "python"
    }
  },
  "cells": [
    {
      "cell_type": "markdown",
      "metadata": {
        "id": "view-in-github",
        "colab_type": "text"
      },
      "source": [
        "<a href=\"https://colab.research.google.com/github/derdasgunay/basic-python-exercises/blob/main/Interview_question.ipynb\" target=\"_parent\"><img src=\"https://colab.research.google.com/assets/colab-badge.svg\" alt=\"Open In Colab\"/></a>"
      ]
    },
    {
      "cell_type": "code",
      "execution_count": 8,
      "metadata": {
        "colab": {
          "base_uri": "https://localhost:8080/"
        },
        "id": "XboWXsz50K7t",
        "outputId": "037cc311-029d-40fe-d88c-ab982ef1424f"
      },
      "outputs": [
        {
          "output_type": "stream",
          "name": "stdout",
          "text": [
            "Hi mY NaMe iS JoHn aNd i aM LeArNiNg pYtHoN\n"
          ]
        }
      ],
      "source": [
        "#Görev : Girilen string ifadenin çift indekslerini  büyük,\n",
        "#tek indekslerini küçük harf yapan bir fonsiyon oluştur.\n",
        "\n",
        "\n",
        "def converter (string):\n",
        "    \"\"\"\n",
        "    Bu fonksiyon, bir string alır ve her karakteri konumuna göre dönüştürür.\n",
        "\n",
        "    Çift indeksli karakterleri büyük harfe, tek indeksli karakterler\n",
        "    ise küçük harfe dönüştürür.\n",
        "\n",
        "    Args (Argümanlar):\n",
        "        string (str): Dönüştürülecek olan string.\n",
        "\n",
        "    Returns:\n",
        "        str: Büyük ve küçük harflerle kurala göre değiştirilmiş yeni string.\n",
        "\n",
        "    Örnek:\n",
        "        >>> converter(\"merhaba\")\n",
        "        'MeRhAbA'\n",
        "    \"\"\"\n",
        "\n",
        "    converted = \"\"\n",
        "    str_index = 0\n",
        "\n",
        "    for letter in string:\n",
        "\n",
        "      if str_index % 2 == 0:\n",
        "        converted += letter.upper()\n",
        "      else:\n",
        "        converted += letter.lower()\n",
        "\n",
        "      str_index += 1\n",
        "\n",
        "    return converted\n"
      ]
    }
  ]
}